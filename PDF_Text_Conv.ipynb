{
 "cells": [
  {
   "cell_type": "code",
   "execution_count": 10,
   "id": "65cae34a-fbc6-4aee-8f47-c150b938382a",
   "metadata": {},
   "outputs": [],
   "source": [
    "import fitz\n",
    "import os\n",
    "\n",
    "# Function to extract text from PDF files and save as text files\n",
    "def extract_text_from_pdf_and_save(pdf_path, output_dir):\n",
    "    # Create output directory if it doesn't exist\n",
    "    if not os.path.exists(output_dir):\n",
    "        os.makedirs(output_dir)\n",
    "    \n",
    "    # Extract text from PDF\n",
    "    doc = fitz.open(pdf_path)\n",
    "    text = \"\"\n",
    "    for page_num in range(len(doc)):\n",
    "        page = doc.load_page(page_num)\n",
    "        text += page.get_text()\n",
    "    \n",
    "    # Save text to a text file\n",
    "    output_file = os.path.join(output_dir, os.path.splitext(os.path.basename(pdf_path))[0] + \".txt\")\n",
    "    with open(output_file, \"w\", encoding=\"utf-8\") as f:\n",
    "        f.write(text)\n",
    "\n",
    "# PDF file paths\n",
    "pdf_paths = [\n",
    "    \"C:/Users/user/Documents/Python/pdf1.pdf\",\n",
    "    \"C:/Users/user/Documents/Python/pdf2.pdf\"\n",
    "    \n",
    "]\n",
    "\n",
    "# Output directory for text files\n",
    "output_dir = \"C:/Users/user/Documents/Python/output.txt\"\n",
    "\n",
    "# Extract text from PDF files and save as text files\n",
    "for pdf_path in pdf_paths:\n",
    "    extract_text_from_pdf_and_save(pdf_path, output_dir)"
   ]
  },
  {
   "cell_type": "code",
   "execution_count": null,
   "id": "8be58d70-eb5d-421c-8a30-7f018a2729e8",
   "metadata": {},
   "outputs": [],
   "source": []
  }
 ],
 "metadata": {
  "kernelspec": {
   "display_name": "Python 3 (ipykernel)",
   "language": "python",
   "name": "python3"
  },
  "language_info": {
   "codemirror_mode": {
    "name": "ipython",
    "version": 3
   },
   "file_extension": ".py",
   "mimetype": "text/x-python",
   "name": "python",
   "nbconvert_exporter": "python",
   "pygments_lexer": "ipython3",
   "version": "3.11.7"
  }
 },
 "nbformat": 4,
 "nbformat_minor": 5
}
